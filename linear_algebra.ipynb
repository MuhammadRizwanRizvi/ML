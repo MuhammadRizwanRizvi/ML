{
 "cells": [
  {
   "cell_type": "markdown",
   "id": "1c473c94-7754-416a-8aff-2792abe2d804",
   "metadata": {},
   "source": [
    "Matrix Creation and Manipulation\n",
    "Create various types of matrices (zero matrix, identity matrix, random matrix).\n",
    "Perform basic matrix operations (addition, subtraction, multiplication).\n",
    "Transpose a matrix and find the determinant and inverse of a matrix.\n"
   ]
  },
  {
   "cell_type": "code",
   "execution_count": 25,
   "id": "9a1837e8-aad8-4160-a9fa-ce935cbd22b6",
   "metadata": {},
   "outputs": [
    {
     "name": "stdout",
     "output_type": "stream",
     "text": [
      "[[0. 0.]\n",
      " [0. 0.]] \n",
      "\n",
      "[[1. 0. 0.]\n",
      " [0. 1. 0.]\n",
      " [0. 0. 1.]] \n",
      "\n",
      "[[18 16 13]\n",
      " [16 16 12]\n",
      " [13 11 17]]\n"
     ]
    }
   ],
   "source": [
    "import numpy as np\n",
    "zeromatrix=np.zeros((2,2))\n",
    "print(zeromatrix,\"\\n\")\n",
    "\n",
    "identity_matrix=np.eye(3,3)\n",
    "print(identity_matrix,\"\\n\")\n",
    "\n",
    "randommatrix=np.random.randint(10,20,size=(3,3))\n",
    "print(randommatrix)"
   ]
  },
  {
   "cell_type": "code",
   "execution_count": 33,
   "id": "091859e8-edbf-4059-966b-e9e8c53b01ae",
   "metadata": {},
   "outputs": [
    {
     "name": "stdout",
     "output_type": "stream",
     "text": [
      "addition\n",
      " [[19. 16. 13.]\n",
      " [16. 17. 12.]\n",
      " [13. 11. 18.]] \n",
      "\n",
      "subtration\n",
      " [[-17. -16. -13.]\n",
      " [-16. -15. -12.]\n",
      " [-13. -11. -16.]] \n",
      "\n",
      "multiplication\n",
      " [[18.  0.  0.]\n",
      " [ 0. 16.  0.]\n",
      " [ 0.  0. 17.]]\n"
     ]
    }
   ],
   "source": [
    "#addition,subtraction,multiplication using identity and random matrix\n",
    "addition=np.add(identity_matrix,randommatrix)\n",
    "print(\"addition\\n\",addition,\"\\n\")\n",
    "\n",
    "subtraction=np.subtract(identity_matrix,randommatrix)\n",
    "print(\"subtration\\n\",subtraction,\"\\n\")\n",
    "\n",
    "multiplication=np.multiply(identity_matrix,randommatrix)\n",
    "print(\"multiplication\\n\",multiplication)"
   ]
  },
  {
   "cell_type": "code",
   "execution_count": 39,
   "id": "02cf7d88-7b16-4c71-ac1d-0cfb3eba2b00",
   "metadata": {},
   "outputs": [
    {
     "name": "stdout",
     "output_type": "stream",
     "text": [
      "transpose of matrix addition\n",
      " [[19. 16. 13.]\n",
      " [16. 17. 11.]\n",
      " [13. 12. 18.]] \n",
      "\n"
     ]
    }
   ],
   "source": [
    "#Transpose a matrix and find the determinant and inverse of a matrix.\n",
    "\n",
    "print(\"transpose of matrix addition\\n\",np.transpose(addition),\"\\n\")"
   ]
  },
  {
   "cell_type": "code",
   "execution_count": 42,
   "id": "5d11687c-1256-4569-9468-5d9545655935",
   "metadata": {},
   "outputs": [
    {
     "name": "stdout",
     "output_type": "stream",
     "text": [
      "determinant of matric multiplication\n",
      " 4896.000000000001 \n",
      "\n",
      "inverse of identity matrix is also an identity matrix\n",
      " [[1. 0. 0.]\n",
      " [0. 1. 0.]\n",
      " [0. 0. 1.]]\n"
     ]
    }
   ],
   "source": [
    "\n",
    "print(\"determinant of matric multiplication\\n\",np.linalg.det(multiplication),\"\\n\")\n",
    "\n",
    "print(\"inverse of identity matrix is also an identity matrix\\n\",np.linalg.inv(identity_matrix))"
   ]
  },
  {
   "cell_type": "markdown",
   "id": "2851d59b-cf07-476f-9c60-43b676d8a3cf",
   "metadata": {},
   "source": [
    "Solving Linear Equations:\n",
    "Using NumPy to solve a system of linear equations.\n"
   ]
  },
  {
   "cell_type": "code",
   "execution_count": 50,
   "id": "c9bef683-2bb7-46b6-9811-24b639ccc00c",
   "metadata": {},
   "outputs": [
    {
     "name": "stdout",
     "output_type": "stream",
     "text": [
      "values of x,y and z are : [ 1.92857143 -3.21428571  1.78571429]\n"
     ]
    }
   ],
   "source": [
    "#let us suppose we have 3 linear equations \n",
    "#x + 2y + z = 5 , 2x + y + 3z = 6 ,x + 3y + 2z = 7\n",
    "#then the system of linear equation will be x=BA^-1\n",
    "#here B is the column matrix of zeros 1*3 and A is 3*3 matrix of co-efficients\n",
    "A=np.array([[5,2,1],[2,1,3],[4,3,5]])\n",
    "B=np.array([5,6,7])\n",
    "#solving the equation\n",
    "sol=np.linalg.solve(A,B)\n",
    "print(\"values of x,y and z are :\",sol)"
   ]
  },
  {
   "cell_type": "code",
   "execution_count": 70,
   "id": "c9965424-067e-4e79-9271-3298e17c6e8c",
   "metadata": {},
   "outputs": [
    {
     "name": "stdout",
     "output_type": "stream",
     "text": [
      "upper triangular matrix of A is \n",
      " [[5.  2.  1. ]\n",
      " [0.  1.4 4.2]\n",
      " [0.  0.  2. ]]\n",
      "\n",
      "lower triangular matrix of A is \n",
      " [[1.         0.         0.        ]\n",
      " [0.8        1.         0.        ]\n",
      " [0.4        0.14285714 1.        ]]\n",
      "\n",
      " permuation matrix of A is\n",
      "  [[1. 0. 0.]\n",
      " [0. 0. 1.]\n",
      " [0. 1. 0.]]\n",
      "\n",
      " dot product of upper and lower triangular matrix \n",
      " [[5. 2. 1.]\n",
      " [4. 3. 5.]\n",
      " [2. 1. 3.]]\n"
     ]
    }
   ],
   "source": [
    "#implementing matrix factorization methods (LU decomposition, QR decomposition).\n",
    "#LU decomposition\n",
    "from scipy.linalg import lu\n",
    "per,low,upp=lu(A)\n",
    "print(\"upper triangular matrix of A is \\n\",upp)\n",
    "print(\"\\nlower triangular matrix of A is \\n\",low)\n",
    "print(\"\\n permuation matrix of A is\\n \",per)\n",
    "print(\"\\n dot product of upper and lower triangular matrix \\n\",np.dot(low,upp))"
   ]
  },
  {
   "cell_type": "code",
   "execution_count": 68,
   "id": "fc7c82ed-990e-4d24-9b3c-dcd0b3699f5d",
   "metadata": {},
   "outputs": [
    {
     "name": "stdout",
     "output_type": "stream",
     "text": [
      "orthogonal matrix of A is \n",
      " [[-0.74535599  0.60858062  0.27216553]\n",
      " [-0.2981424   0.06085806 -0.95257934]\n",
      " [-0.59628479 -0.79115481  0.13608276]]\n",
      "\n",
      "upper triangular matrix of A is \n",
      " [[-6.70820393 -3.57770876 -4.62120715]\n",
      " [ 0.         -1.09544512 -3.16461922]\n",
      " [ 0.          0.         -1.90515869]]\n",
      "\n",
      " dot product of upper and lower triangular matrix \n",
      " [[5. 2. 1.]\n",
      " [2. 1. 3.]\n",
      " [4. 3. 5.]]\n"
     ]
    }
   ],
   "source": [
    "#QR decomposition\n",
    "q,r=np.linalg.qr(A)\n",
    "print(\"orthogonal matrix of A is \\n\",q)\n",
    "print(\"\\nupper triangular matrix of A is \\n\",r)\n",
    "print(\"\\n dot product of upper and lower triangular matrix \\n\",np.dot(q,r))"
   ]
  },
  {
   "cell_type": "markdown",
   "id": "ae6c19fb-c235-424e-8f15-918ad7a520b8",
   "metadata": {},
   "source": [
    "Eigenvalues and Eigenvectors:Calculate the eigenvalues and eigenvectors of a given matrix."
   ]
  },
  {
   "cell_type": "code",
   "execution_count": 74,
   "id": "a1b386c6-e446-4feb-9ac6-738406b07068",
   "metadata": {},
   "outputs": [
    {
     "name": "stdout",
     "output_type": "stream",
     "text": [
      "eigen values of matrix A are: [ 8.76382033  2.80557368 -0.56939401]\n",
      "\n",
      "eigen vector of matrix A is \n",
      " [[ 0.43476441  0.64748117  0.27560581]\n",
      " [ 0.41984377 -0.38018818 -0.91492234]\n",
      " [ 0.79668759 -0.66047337  0.29488734]]\n"
     ]
    }
   ],
   "source": [
    "eigenvalues,eigenvectors=np.linalg.eig(A)\n",
    "print(\"eigen values of matrix A are:\",eigenvalues)\n",
    "print(\"\\neigen vector of matrix A is \\n\",eigenvectors)"
   ]
  },
  {
   "cell_type": "code",
   "execution_count": 79,
   "id": "f2a3b681-a6c9-4a9f-9b7b-9c94b7f2be78",
   "metadata": {},
   "outputs": [
    {
     "name": "stdout",
     "output_type": "stream",
     "text": [
      "[[5. 2. 1.]\n",
      " [2. 1. 3.]\n",
      " [4. 3. 5.]]\n"
     ]
    }
   ],
   "source": [
    "#Verify the results by reconstructing the original matrix.\n",
    "#A=CDC^-1, here C is the matrix whose columns are the eigen vectors of A\n",
    "#D is the diagonal matrix with eigen values of A\n",
    "inv=np.linalg.inv(eigenvectors)\n",
    "temp=np.dot(eigenvectors,np.diag(eigenvalues))\n",
    "final=np.dot(temp,inv)\n",
    "print(final)"
   ]
  },
  {
   "cell_type": "code",
   "execution_count": 88,
   "id": "bdde7958-eac2-460b-ac36-9e7836df9eea",
   "metadata": {},
   "outputs": [
    {
     "data": {
      "text/plain": [
       "array([[-2.56177919,  1.32366998, -0.70710678],\n",
       "       [ 0.51784189,  1.44990005,  1.41421356],\n",
       "       [-0.64730236, -1.81237506,  1.41421356]])"
      ]
     },
     "execution_count": 88,
     "metadata": {},
     "output_type": "execute_result"
    }
   ],
   "source": [
    "#Matrix Decomposition: Understand and implement Principal Component Analysis (PCA) using SVD\n",
    "#pca finds new set of orthogonal axes with maximum variance, svd decomposes \n",
    "#vectors into singular vectors which are related to pca.\n",
    "meanA=np.mean(A)\n",
    "centerA=A-meanA\n",
    "#computing the co-variance matrix\n",
    "covmA=np.cov(centerA)\n",
    "a,b,c=np.linalg.svd(covmA)\n",
    "k=3\n",
    "reduce=a[:,:k]\n",
    "reduced=np.dot(centerA,reduce)\n",
    "reduced"
   ]
  },
  {
   "cell_type": "code",
   "execution_count": null,
   "id": "cc2fe3fe-d41a-48eb-9f4e-f3884cca3c07",
   "metadata": {},
   "outputs": [],
   "source": []
  }
 ],
 "metadata": {
  "kernelspec": {
   "display_name": "Python 3 (ipykernel)",
   "language": "python",
   "name": "python3"
  },
  "language_info": {
   "codemirror_mode": {
    "name": "ipython",
    "version": 3
   },
   "file_extension": ".py",
   "mimetype": "text/x-python",
   "name": "python",
   "nbconvert_exporter": "python",
   "pygments_lexer": "ipython3",
   "version": "3.11.7"
  }
 },
 "nbformat": 4,
 "nbformat_minor": 5
}
