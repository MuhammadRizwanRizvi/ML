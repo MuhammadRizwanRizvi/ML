{
 "cells": [
  {
   "cell_type": "code",
   "execution_count": 2,
   "id": "fbb47983-0b1f-4daf-83bf-ce93fed7b754",
   "metadata": {},
   "outputs": [],
   "source": [
    "import numpy as np\n",
    "import matplotlib.pyplot as mlt\n"
   ]
  },
  {
   "cell_type": "code",
   "execution_count": 4,
   "id": "2be490eb-2567-447c-85c8-7055b6872cb4",
   "metadata": {},
   "outputs": [
    {
     "data": {
      "text/plain": [
       "numpy.ndarray"
      ]
     },
     "execution_count": 4,
     "metadata": {},
     "output_type": "execute_result"
    }
   ],
   "source": [
    "image=mlt.imread('snipets.png')\n",
    "type(image)"
   ]
  },
  {
   "cell_type": "code",
   "execution_count": 6,
   "id": "df4bc430-87cb-441c-9af6-c8afee1526c1",
   "metadata": {},
   "outputs": [
    {
     "data": {
      "text/plain": [
       "array([[1., 1., 1., 1.],\n",
       "       [1., 1., 1., 1.],\n",
       "       [1., 1., 1., 1.],\n",
       "       ...,\n",
       "       [1., 1., 1., 1.],\n",
       "       [1., 1., 1., 1.],\n",
       "       [1., 1., 1., 1.]], dtype=float32)"
      ]
     },
     "execution_count": 6,
     "metadata": {},
     "output_type": "execute_result"
    }
   ],
   "source": [
    "image[100,:,:]"
   ]
  },
  {
   "cell_type": "code",
   "execution_count": 9,
   "id": "670027f3-e48d-4fb5-9ba0-cdb6744ee02b",
   "metadata": {},
   "outputs": [
    {
     "data": {
      "image/png": "[encoded data removed]",
      "text/plain": [
       "<Figure size 640x480 with 1 Axes>"
      ]
     },
     "metadata": {},
     "output_type": "display_data"
    }
   ],
   "source": [
    "mlt.imshow(image,cmap='gray')\n",
    "mlt.axis('off')\n",
    "mlt.show()"
   ]
  },
  {
   "cell_type": "code",
   "execution_count": 11,
   "id": "2cc86789-d149-49f8-8e25-e0db1dc9ddf5",
   "metadata": {},
   "outputs": [
    {
     "data": {
      "text/plain": [
       "(1080, 1920, 4)"
      ]
     },
     "execution_count": 11,
     "metadata": {},
     "output_type": "execute_result"
    }
   ],
   "source": [
    "image.shape"
   ]
  },
  {
   "cell_type": "code",
   "execution_count": 14,
   "id": "25d2fb7b-3dee-4796-aebb-804d1f0bab29",
   "metadata": {},
   "outputs": [
    {
     "data": {
      "text/plain": [
       "array([[[0.2901961 , 0.2901961 , 0.2901961 , 1.        ],\n",
       "        [0.2784314 , 0.2784314 , 0.2784314 , 1.        ],\n",
       "        [0.2784314 , 0.2784314 , 0.2784314 , 1.        ],\n",
       "        ...,\n",
       "        [0.26666668, 0.2784314 , 0.28627452, 1.        ],\n",
       "        [0.26666668, 0.2784314 , 0.28627452, 1.        ],\n",
       "        [0.26666668, 0.2784314 , 0.28627452, 1.        ]],\n",
       "\n",
       "       [[0.28627452, 0.28627452, 0.28627452, 1.        ],\n",
       "        [0.28235295, 0.28235295, 0.28235295, 1.        ],\n",
       "        [0.28627452, 0.28627452, 0.28627452, 1.        ],\n",
       "        ...,\n",
       "        [0.2627451 , 0.27450982, 0.28235295, 1.        ],\n",
       "        [0.26666668, 0.2784314 , 0.28627452, 1.        ],\n",
       "        [0.26666668, 0.2784314 , 0.28627452, 1.        ]],\n",
       "\n",
       "       [[1.        , 1.        , 1.        , 1.        ],\n",
       "        [1.        , 1.        , 1.        , 1.        ],\n",
       "        [1.        , 1.        , 1.        , 1.        ],\n",
       "        ...,\n",
       "        [1.        , 1.        , 1.        , 1.        ],\n",
       "        [1.        , 1.        , 1.        , 1.        ],\n",
       "        [1.        , 1.        , 1.        , 1.        ]],\n",
       "\n",
       "       ...,\n",
       "\n",
       "       [[1.        , 1.        , 1.        , 1.        ],\n",
       "        [1.        , 1.        , 1.        , 1.        ],\n",
       "        [1.        , 1.        , 1.        , 1.        ],\n",
       "        ...,\n",
       "        [1.        , 1.        , 1.        , 1.        ],\n",
       "        [1.        , 1.        , 1.        , 1.        ],\n",
       "        [1.        , 1.        , 1.        , 1.        ]],\n",
       "\n",
       "       [[1.        , 1.        , 1.        , 1.        ],\n",
       "        [1.        , 1.        , 1.        , 1.        ],\n",
       "        [1.        , 1.        , 1.        , 1.        ],\n",
       "        ...,\n",
       "        [1.        , 1.        , 1.        , 1.        ],\n",
       "        [1.        , 1.        , 1.        , 1.        ],\n",
       "        [1.        , 1.        , 1.        , 1.        ]],\n",
       "\n",
       "       [[1.        , 1.        , 1.        , 1.        ],\n",
       "        [1.        , 1.        , 1.        , 1.        ],\n",
       "        [1.        , 1.        , 1.        , 1.        ],\n",
       "        ...,\n",
       "        [1.        , 1.        , 1.        , 1.        ],\n",
       "        [1.        , 1.        , 1.        , 1.        ],\n",
       "        [1.        , 1.        , 1.        , 1.        ]]], dtype=float32)"
      ]
     },
     "execution_count": 14,
     "metadata": {},
     "output_type": "execute_result"
    }
   ],
   "source": [
    "np.flipud(image)"
   ]
  },
  {
   "cell_type": "code",
   "execution_count": 15,
   "id": "ef003337-3665-40fa-af2f-4bd418db71fa",
   "metadata": {},
   "outputs": [
    {
     "data": {
      "text/plain": [
       "array([[[1.        , 1.        , 1.        , 1.        ],\n",
       "        [1.        , 1.        , 1.        , 1.        ],\n",
       "        [1.        , 1.        , 1.        , 1.        ],\n",
       "        ...,\n",
       "        [1.        , 1.        , 1.        , 1.        ],\n",
       "        [1.        , 1.        , 1.        , 1.        ],\n",
       "        [1.        , 1.        , 1.        , 1.        ]],\n",
       "\n",
       "       [[1.        , 1.        , 1.        , 1.        ],\n",
       "        [1.        , 1.        , 1.        , 1.        ],\n",
       "        [1.        , 1.        , 1.        , 1.        ],\n",
       "        ...,\n",
       "        [1.        , 1.        , 1.        , 1.        ],\n",
       "        [1.        , 1.        , 1.        , 1.        ],\n",
       "        [1.        , 1.        , 1.        , 1.        ]],\n",
       "\n",
       "       [[1.        , 1.        , 1.        , 1.        ],\n",
       "        [1.        , 1.        , 1.        , 1.        ],\n",
       "        [1.        , 1.        , 1.        , 1.        ],\n",
       "        ...,\n",
       "        [1.        , 1.        , 1.        , 1.        ],\n",
       "        [1.        , 1.        , 1.        , 1.        ],\n",
       "        [1.        , 1.        , 1.        , 1.        ]],\n",
       "\n",
       "       ...,\n",
       "\n",
       "       [[1.        , 1.        , 1.        , 1.        ],\n",
       "        [1.        , 1.        , 1.        , 1.        ],\n",
       "        [1.        , 1.        , 1.        , 1.        ],\n",
       "        ...,\n",
       "        [1.        , 1.        , 1.        , 1.        ],\n",
       "        [1.        , 1.        , 1.        , 1.        ],\n",
       "        [1.        , 1.        , 1.        , 1.        ]],\n",
       "\n",
       "       [[0.26666668, 0.2784314 , 0.28627452, 1.        ],\n",
       "        [0.26666668, 0.2784314 , 0.28627452, 1.        ],\n",
       "        [0.2627451 , 0.27450982, 0.28235295, 1.        ],\n",
       "        ...,\n",
       "        [0.28627452, 0.28627452, 0.28627452, 1.        ],\n",
       "        [0.28235295, 0.28235295, 0.28235295, 1.        ],\n",
       "        [0.28627452, 0.28627452, 0.28627452, 1.        ]],\n",
       "\n",
       "       [[0.26666668, 0.2784314 , 0.28627452, 1.        ],\n",
       "        [0.26666668, 0.2784314 , 0.28627452, 1.        ],\n",
       "        [0.26666668, 0.2784314 , 0.28627452, 1.        ],\n",
       "        ...,\n",
       "        [0.2784314 , 0.2784314 , 0.2784314 , 1.        ],\n",
       "        [0.2784314 , 0.2784314 , 0.2784314 , 1.        ],\n",
       "        [0.2901961 , 0.2901961 , 0.2901961 , 1.        ]]], dtype=float32)"
      ]
     },
     "execution_count": 15,
     "metadata": {},
     "output_type": "execute_result"
    }
   ],
   "source": [
    "np.fliplr(image)"
   ]
  },
  {
   "cell_type": "code",
   "execution_count": 16,
   "id": "8a55cc87-b3b9-4887-9e39-97d10374527e",
   "metadata": {},
   "outputs": [
    {
     "name": "stdout",
     "output_type": "stream",
     "text": [
      "[1, 2, 3, 4, 5]\n"
     ]
    }
   ],
   "source": [
    "array=[1,3,5,2,4]\n",
    "print(sorted(array))"
   ]
  },
  {
   "cell_type": "code",
   "execution_count": null,
   "id": "b009be43-e53a-4d03-b7c1-6348a7215d5a",
   "metadata": {},
   "outputs": [],
   "source": []
  }
 ],
 "metadata": {
  "kernelspec": {
   "display_name": "Python 3 (ipykernel)",
   "language": "python",
   "name": "python3"
  },
  "language_info": {
   "codemirror_mode": {
    "name": "ipython",
    "version": 3
   },
   "file_extension": ".py",
   "mimetype": "text/x-python",
   "name": "python",
   "nbconvert_exporter": "python",
   "pygments_lexer": "ipython3",
   "version": "3.11.7"
  }
 },
 "nbformat": 4,
 "nbformat_minor": 5
}
