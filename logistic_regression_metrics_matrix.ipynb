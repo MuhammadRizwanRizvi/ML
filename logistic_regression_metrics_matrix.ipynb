{
 "cells": [
  {
   "cell_type": "markdown",
   "id": "6baa5d0a-9f57-4ba0-af01-6cc9352b8ac6",
   "metadata": {},
   "source": [
    "for logistic regression data must be linearly spearable or almost linearly separable. it linearly separate the data into distinctable regions. \n",
    "general equation is Ax1+Bx2+Cx3+d=0.\n",
    "there is a concept of perceptron trick in logistic regression.\n",
    "it randomly selects the point and check whether it is classified correctly or not if classified well and good but if not then trace the line towards that points , this process repeats until the perfect line is not drawn.\n",
    "for this we have to check number of mis-classified points and make this number zero.\n",
    "to check whether the line lies on positive or negative sides we have to find value of line, if value of line equation >0 then points is on positive side, if less then 0 then on negative side if equal to 0 then points are on the line. if the points is negative but in positive region then we have to update the values of co-efficients. wnew=wold-learningrate[vector of x].\n",
    "updated form for co-efficients is wnew=wold+learningrate[actual-predicted]xi\n",
    "logistic regression gives value in probability form for this it uses sigmoid function given as \n",
    "p=1/(1+e^-(Ax1+Bx2+Cx3+d))."
   ]
  },
  {
   "cell_type": "code",
   "execution_count": 2,
   "id": "1d10e69c-120d-45af-8448-70520898eca6",
   "metadata": {},
   "outputs": [
    {
     "data": {
      "text/html": [
       "<div>\n",
       "<style scoped>\n",
       "    .dataframe tbody tr th:only-of-type {\n",
       "        vertical-align: middle;\n",
       "    }\n",
       "\n",
       "    .dataframe tbody tr th {\n",
       "        vertical-align: top;\n",
       "    }\n",
       "\n",
       "    .dataframe thead th {\n",
       "        text-align: right;\n",
       "    }\n",
       "</style>\n",
       "<table border=\"1\" class=\"dataframe\">\n",
       "  <thead>\n",
       "    <tr style=\"text-align: right;\">\n",
       "      <th></th>\n",
       "      <th>Age</th>\n",
       "      <th>Glucose</th>\n",
       "      <th>BloodPressure</th>\n",
       "      <th>Insulin</th>\n",
       "      <th>BMI</th>\n",
       "      <th>diabetes</th>\n",
       "    </tr>\n",
       "  </thead>\n",
       "  <tbody>\n",
       "    <tr>\n",
       "      <th>763</th>\n",
       "      <td>63</td>\n",
       "      <td>101</td>\n",
       "      <td>76</td>\n",
       "      <td>180</td>\n",
       "      <td>32.9</td>\n",
       "      <td>0</td>\n",
       "    </tr>\n",
       "    <tr>\n",
       "      <th>764</th>\n",
       "      <td>27</td>\n",
       "      <td>122</td>\n",
       "      <td>70</td>\n",
       "      <td>0</td>\n",
       "      <td>36.8</td>\n",
       "      <td>0</td>\n",
       "    </tr>\n",
       "    <tr>\n",
       "      <th>765</th>\n",
       "      <td>30</td>\n",
       "      <td>121</td>\n",
       "      <td>72</td>\n",
       "      <td>112</td>\n",
       "      <td>26.2</td>\n",
       "      <td>0</td>\n",
       "    </tr>\n",
       "    <tr>\n",
       "      <th>766</th>\n",
       "      <td>47</td>\n",
       "      <td>126</td>\n",
       "      <td>60</td>\n",
       "      <td>0</td>\n",
       "      <td>30.1</td>\n",
       "      <td>1</td>\n",
       "    </tr>\n",
       "    <tr>\n",
       "      <th>767</th>\n",
       "      <td>23</td>\n",
       "      <td>93</td>\n",
       "      <td>70</td>\n",
       "      <td>0</td>\n",
       "      <td>30.4</td>\n",
       "      <td>0</td>\n",
       "    </tr>\n",
       "  </tbody>\n",
       "</table>\n",
       "</div>"
      ],
      "text/plain": [
       "     Age  Glucose  BloodPressure  Insulin   BMI  diabetes\n",
       "763   63      101             76      180  32.9         0\n",
       "764   27      122             70        0  36.8         0\n",
       "765   30      121             72      112  26.2         0\n",
       "766   47      126             60        0  30.1         1\n",
       "767   23       93             70        0  30.4         0"
      ]
     },
     "execution_count": 2,
     "metadata": {},
     "output_type": "execute_result"
    }
   ],
   "source": [
    "import pandas as pd\n",
    "df=pd.read_csv('diabetes.csv')\n",
    "df.tail(5)"
   ]
  },
  {
   "cell_type": "code",
   "execution_count": 35,
   "id": "b70b6e15-7d5d-4461-9596-b21cccddce19",
   "metadata": {},
   "outputs": [
    {
     "data": {
      "text/plain": [
       "<bound method DataFrame.info of      Age  Glucose  BloodPressure  Insulin   BMI\n",
       "0     50      148             72        0  33.6\n",
       "1     31       85             66        0  26.6\n",
       "2     32      183             64        0  23.3\n",
       "3     21       89             66       94  28.1\n",
       "4     33      137             40      168  43.1\n",
       "..   ...      ...            ...      ...   ...\n",
       "763   63      101             76      180  32.9\n",
       "764   27      122             70        0  36.8\n",
       "765   30      121             72      112  26.2\n",
       "766   47      126             60        0  30.1\n",
       "767   23       93             70        0  30.4\n",
       "\n",
       "[768 rows x 5 columns]>"
      ]
     },
     "execution_count": 35,
     "metadata": {},
     "output_type": "execute_result"
    }
   ],
   "source": [
    "x=df[['Age','Glucose','BloodPressure','Insulin','BMI']]\n",
    "y=df['diabetes']\n",
    "x.info"
   ]
  },
  {
   "cell_type": "code",
   "execution_count": 17,
   "id": "123872c4-8770-4ab7-a4a6-2e1de4d669f0",
   "metadata": {},
   "outputs": [
    {
     "name": "stdout",
     "output_type": "stream",
     "text": [
      "(614, 5) (154, 5) (614,) (154,)\n"
     ]
    }
   ],
   "source": [
    "from sklearn.model_selection import train_test_split\n",
    "trainx,testx,trainy,testy=train_test_split(x,y,test_size=0.20,random_state=21)\n",
    "print(trainx.shape,testx.shape,trainy.shape,testy.shape)"
   ]
  },
  {
   "cell_type": "code",
   "execution_count": 15,
   "id": "6f25fdc2-5f71-476d-b64e-cffc166eec8f",
   "metadata": {},
   "outputs": [
    {
     "data": {
      "text/plain": [
       "(154, 5)"
      ]
     },
     "execution_count": 15,
     "metadata": {},
     "output_type": "execute_result"
    }
   ],
   "source": [
    "#standardization helps to prevent bias it ensures all features are \n",
    "#treated equally during prediction and generally improves the performance\n",
    "#and interpretability of the model\n",
    "from sklearn.preprocessing import StandardScaler\n",
    "scaler=StandardScaler()\n",
    "trainx=scaler.fit_transform(trainx)\n",
    "testx=scaler.transform(testx)"
   ]
  },
  {
   "cell_type": "code",
   "execution_count": 20,
   "id": "fd2daad1-5aa3-4f8e-8f46-681268f90a7a",
   "metadata": {},
   "outputs": [
    {
     "name": "stdout",
     "output_type": "stream",
     "text": [
      "model is trained successfully\n"
     ]
    }
   ],
   "source": [
    "from sklearn.linear_model import LogisticRegression\n",
    "log=LogisticRegression()\n",
    "try:\n",
    "    log.fit(trainx,trainy)\n",
    "    print(\"model is trained successfully\")\n",
    "except exception as e:\n",
    "   print(\"model is not trained\")"
   ]
  },
  {
   "cell_type": "code",
   "execution_count": 37,
   "id": "c575680d-520c-4fb1-ac4d-6cf68bc8221a",
   "metadata": {},
   "outputs": [
    {
     "data": {
      "text/plain": [
       "pandas.core.frame.DataFrame"
      ]
     },
     "execution_count": 37,
     "metadata": {},
     "output_type": "execute_result"
    }
   ],
   "source": [
    "type(testx)"
   ]
  },
  {
   "cell_type": "code",
   "execution_count": 24,
   "id": "c67a65fd-6f5b-4219-97bc-6893fca4ba51",
   "metadata": {},
   "outputs": [
    {
     "data": {
      "text/plain": [
       "array([0, 0, 0, 1, 1, 0, 0, 0, 0, 0, 0, 0, 0, 0, 0, 1, 1, 0, 0, 1, 0, 0,\n",
       "       1, 1, 1, 0, 0, 0, 0, 1, 0, 0, 0, 1, 0, 1, 0, 0, 0, 0, 0, 0, 0, 0,\n",
       "       1, 0, 0, 0, 0, 1, 1, 1, 1, 0, 0, 0, 0, 0, 0, 0, 1, 0, 0, 1, 0, 0,\n",
       "       0, 0, 0, 0, 1, 1, 0, 0, 0, 0, 0, 0, 0, 0, 0, 0, 0, 0, 0, 0, 0, 1,\n",
       "       0, 0, 0, 1, 0, 0, 1, 0, 0, 0, 0, 0, 0, 0, 0, 1, 1, 0, 0, 0, 0, 0,\n",
       "       0, 0, 1, 0, 1, 0, 1, 1, 1, 0, 1, 0, 0, 0, 0, 0, 0, 1, 0, 0, 1, 0,\n",
       "       0, 0, 0, 0, 0, 0, 1, 1, 0, 0, 0, 0, 1, 1, 1, 0, 0, 1, 0, 0, 1, 1],\n",
       "      dtype=int64)"
      ]
     },
     "execution_count": 24,
     "metadata": {},
     "output_type": "execute_result"
    }
   ],
   "source": [
    "predict=log.predict(testx)\n",
    "predict"
   ]
  },
  {
   "cell_type": "code",
   "execution_count": 33,
   "id": "c6cdfda2-3369-4e45-9b1d-4d0fba2b6f5b",
   "metadata": {},
   "outputs": [
    {
     "name": "stdout",
     "output_type": "stream",
     "text": [
      "accuracy is 70.78%\n",
      "confusion matrix is \n",
      " [[81 13]\n",
      " [32 28]]\n",
      "classification report is \n",
      "               precision    recall  f1-score   support\n",
      "\n",
      "           0       0.72      0.86      0.78        94\n",
      "           1       0.68      0.47      0.55        60\n",
      "\n",
      "    accuracy                           0.71       154\n",
      "   macro avg       0.70      0.66      0.67       154\n",
      "weighted avg       0.70      0.71      0.69       154\n",
      "\n"
     ]
    }
   ],
   "source": [
    "#confusion matrix is a 2*2 matrix having predicted and actual results of classficatio\n",
    "from sklearn.metrics import accuracy_score,confusion_matrix,classification_report\n",
    "print(\"accuracy is {:.2f}%\".format(accuracy_score(testy,predict)*100))\n",
    "print(\"confusion matrix is \\n\",confusion_matrix(testy,predict))\n",
    "print(\"classification report is \\n\",classification_report(testy,predict))"
   ]
  },
  {
   "cell_type": "code",
   "execution_count": 34,
   "id": "e8a4c52e-d729-4ebe-b145-09acfae6b2d9",
   "metadata": {},
   "outputs": [],
   "source": [
    "#here 1st value of matrix is number of  true in both model and actual data and known as true positive\n",
    "#2nd value are true in actual but false by model and known as false negative\n",
    "#3rd value are false in actual but true by model and known as false positive\n",
    "#4th value are false in both model and actual\n",
    "#precision=tp/tp+fp\n",
    "#recall=tp/tp+fn\n",
    "#accurcay=tp+tn/tp+tn+fp+fn\n",
    "#f-1=Precision*recall/precision+recall\n",
    "#macro avg: compute performance for each class and take average\n",
    "#weighted avg: compute result into matrix and then find the average"
   ]
  },
  {
   "cell_type": "code",
   "execution_count": 40,
   "id": "c894c740-c734-4a59-af76-74ada2e666e2",
   "metadata": {},
   "outputs": [],
   "source": [
    "def predict():\n",
    "    age = float(input(\"Enter your age: \"))\n",
    "    glucose = float(input(\"Enter your glucose level: \"))\n",
    "    bp = float(input(\"Enter your blood pressure: \"))\n",
    "    ins = float(input(\"Enter insulin value: \"))\n",
    "    bmi = float(input(\"Enter BMI value: \"))\n",
    "    input=pd.DataFrame([[age, glucose, bp, ins, bmi]], columns=['Age', 'Glucose', 'BloodPressure', 'Insulin', 'BMI'])\n",
    "    standard=scaler.transform(input)\n",
    "    predict=log.predict(standard)\n",
    "    if predict==1:\n",
    "        print(\"you have diabetes\")\n",
    "    else:\n",
    "        print(\"you don't have diabetes\")\n",
    "        "
   ]
  },
  {
   "cell_type": "code",
   "execution_count": 42,
   "id": "48f4ec75-097f-4dca-a3ca-e695eac0f498",
   "metadata": {},
   "outputs": [],
   "source": [
    "#call above function when trying on new data"
   ]
  },
  {
   "cell_type": "code",
   "execution_count": null,
   "id": "48613cec-88ca-4ea2-a700-79e6a3e7a33e",
   "metadata": {},
   "outputs": [],
   "source": []
  }
 ],
 "metadata": {
  "kernelspec": {
   "display_name": "Python 3 (ipykernel)",
   "language": "python",
   "name": "python3"
  },
  "language_info": {
   "codemirror_mode": {
    "name": "ipython",
    "version": 3
   },
   "file_extension": ".py",
   "mimetype": "text/x-python",
   "name": "python",
   "nbconvert_exporter": "python",
   "pygments_lexer": "ipython3",
   "version": "3.11.7"
  }
 },
 "nbformat": 4,
 "nbformat_minor": 5
}
