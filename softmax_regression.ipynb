{
 "cells": [
  {
   "cell_type": "markdown",
   "id": "2eac8216-031e-4f8a-9710-1a23f5848a0b",
   "metadata": {},
   "source": [
    "logistic regression works for two cases only either ture or false, spam or not\n",
    " but what if we have to decide among more than 2 classes, like if we have to decide \n",
    " either mail is urgent,normal or unneccessary, for more than 2 classes logistic regression will\n",
    " not work so we came with a new idea called softmax regression  also known as \n",
    "mutli nomial regression       \n",
    "mathmatical version of softmax is sigma(z1)=sigma(z1)/sigma(z1)+sigma(z2)+sigma(z3), this value in the form of probability. \n",
    "there is a threshold for each class. if softmax value falls in the threshold then that will be the class of input."
   ]
  },
  {
   "cell_type": "code",
   "execution_count": 81,
   "id": "4d2c07a0-02a8-4870-990b-cb79000af0d1",
   "metadata": {},
   "outputs": [
    {
     "data": {
      "text/html": [
       "<div>\n",
       "<style scoped>\n",
       "    .dataframe tbody tr th:only-of-type {\n",
       "        vertical-align: middle;\n",
       "    }\n",
       "\n",
       "    .dataframe tbody tr th {\n",
       "        vertical-align: top;\n",
       "    }\n",
       "\n",
       "    .dataframe thead th {\n",
       "        text-align: right;\n",
       "    }\n",
       "</style>\n",
       "<table border=\"1\" class=\"dataframe\">\n",
       "  <thead>\n",
       "    <tr style=\"text-align: right;\">\n",
       "      <th></th>\n",
       "      <th>age</th>\n",
       "      <th>cholesterol level</th>\n",
       "      <th>blood pressure</th>\n",
       "      <th>type</th>\n",
       "    </tr>\n",
       "  </thead>\n",
       "  <tbody>\n",
       "    <tr>\n",
       "      <th>95</th>\n",
       "      <td>59</td>\n",
       "      <td>170</td>\n",
       "      <td>94</td>\n",
       "      <td>2</td>\n",
       "    </tr>\n",
       "    <tr>\n",
       "      <th>96</th>\n",
       "      <td>70</td>\n",
       "      <td>203</td>\n",
       "      <td>178</td>\n",
       "      <td>1</td>\n",
       "    </tr>\n",
       "    <tr>\n",
       "      <th>97</th>\n",
       "      <td>61</td>\n",
       "      <td>252</td>\n",
       "      <td>131</td>\n",
       "      <td>2</td>\n",
       "    </tr>\n",
       "    <tr>\n",
       "      <th>98</th>\n",
       "      <td>26</td>\n",
       "      <td>208</td>\n",
       "      <td>148</td>\n",
       "      <td>1</td>\n",
       "    </tr>\n",
       "    <tr>\n",
       "      <th>99</th>\n",
       "      <td>69</td>\n",
       "      <td>221</td>\n",
       "      <td>84</td>\n",
       "      <td>1</td>\n",
       "    </tr>\n",
       "  </tbody>\n",
       "</table>\n",
       "</div>"
      ],
      "text/plain": [
       "    age  cholesterol level  blood pressure  type\n",
       "95   59                170              94     2\n",
       "96   70                203             178     1\n",
       "97   61                252             131     2\n",
       "98   26                208             148     1\n",
       "99   69                221              84     1"
      ]
     },
     "execution_count": 81,
     "metadata": {},
     "output_type": "execute_result"
    }
   ],
   "source": [
    "import pandas as pd\n",
    "import numpy as np\n",
    "#making own random data set of diabetes\n",
    "ages=np.random.randint(20,80,size=100)\n",
    "bp=np.random.randint(80.0,180.0,size=100)\n",
    "chl=np.random.randint(150,300,size=100)\n",
    "types=np.random.choice([1,2,3],size=100)\n",
    "df=pd.DataFrame({'age':ages,'cholesterol level':chl,'blood pressure':bp,'type':types})\n",
    "df.tail(5)"
   ]
  },
  {
   "cell_type": "code",
   "execution_count": 82,
   "id": "88eece54-795a-4293-be0d-f481f1bee319",
   "metadata": {},
   "outputs": [],
   "source": [
    "x=df.iloc[:,0:3]\n",
    "y=df.iloc[:,-1]"
   ]
  },
  {
   "cell_type": "code",
   "execution_count": 83,
   "id": "05f9a2a7-f8f2-4b11-be59-0c6ea606ae12",
   "metadata": {},
   "outputs": [],
   "source": [
    "from sklearn.model_selection import train_test_split\n",
    "trainx,testx,trainy,testy=train_test_split(x,y,test_size=0.20,random_state=21)"
   ]
  },
  {
   "cell_type": "code",
   "execution_count": 84,
   "id": "28f68b02-261d-49be-b502-f0340e576af2",
   "metadata": {},
   "outputs": [],
   "source": [
    "from sklearn.preprocessing import StandardScaler\n",
    "scaler=StandardScaler()\n",
    "trainx=scaler.fit_transform(trainx)\n",
    "testx=scaler.transform(testx)"
   ]
  },
  {
   "cell_type": "code",
   "execution_count": 85,
   "id": "d12f1dae-ac9c-408b-8b6f-707f8a299f7e",
   "metadata": {},
   "outputs": [
    {
     "data": {
      "text/plain": [
       "array([3, 2, 3, 3, 3, 2, 2, 3, 3, 2, 2, 3, 3, 3, 3, 2, 3, 3, 3, 3])"
      ]
     },
     "execution_count": 85,
     "metadata": {},
     "output_type": "execute_result"
    }
   ],
   "source": [
    "from sklearn.linear_model import LogisticRegression\n",
    "log=LogisticRegression(multi_class='multinomial')\n",
    "log.fit(trainx,trainy)\n",
    "predicty=log.predict(testx)\n",
    "predicty"
   ]
  },
  {
   "cell_type": "code",
   "execution_count": 86,
   "id": "30e46a53-44b3-4427-8f96-5b9401a289bb",
   "metadata": {},
   "outputs": [
    {
     "name": "stdout",
     "output_type": "stream",
     "text": [
      "accuracy of mode is 30.00%\n",
      "confusion matrix \n",
      " [[0 2 8]\n",
      " [0 1 1]\n",
      " [0 3 5]]\n",
      "classification report \n",
      "               precision    recall  f1-score   support\n",
      "\n",
      "           1       0.00      0.00      0.00        10\n",
      "           2       0.17      0.50      0.25         2\n",
      "           3       0.36      0.62      0.45         8\n",
      "\n",
      "    accuracy                           0.30        20\n",
      "   macro avg       0.17      0.38      0.23        20\n",
      "weighted avg       0.16      0.30      0.21        20\n",
      "\n"
     ]
    },
    {
     "name": "stderr",
     "output_type": "stream",
     "text": [
      "C:\\Users\\PMLS\\anaconda3\\Lib\\site-packages\\sklearn\\metrics\\_classification.py:1344: UndefinedMetricWarning: Precision and F-score are ill-defined and being set to 0.0 in labels with no predicted samples. Use `zero_division` parameter to control this behavior.\n",
      "  _warn_prf(average, modifier, msg_start, len(result))\n",
      "C:\\Users\\PMLS\\anaconda3\\Lib\\site-packages\\sklearn\\metrics\\_classification.py:1344: UndefinedMetricWarning: Precision and F-score are ill-defined and being set to 0.0 in labels with no predicted samples. Use `zero_division` parameter to control this behavior.\n",
      "  _warn_prf(average, modifier, msg_start, len(result))\n",
      "C:\\Users\\PMLS\\anaconda3\\Lib\\site-packages\\sklearn\\metrics\\_classification.py:1344: UndefinedMetricWarning: Precision and F-score are ill-defined and being set to 0.0 in labels with no predicted samples. Use `zero_division` parameter to control this behavior.\n",
      "  _warn_prf(average, modifier, msg_start, len(result))\n"
     ]
    }
   ],
   "source": [
    "from sklearn.metrics import accuracy_score,confusion_matrix,classification_report\n",
    "print(\"accuracy of mode is {:.2f}%\".format(accuracy_score(testy,predicty)*100))\n",
    "print(\"confusion matrix \\n\",confusion_matrix(testy,predicty))\n",
    "print(\"classification report \\n\",classification_report(testy,predicty))"
   ]
  },
  {
   "cell_type": "code",
   "execution_count": 87,
   "id": "5e10af23-da0a-48b5-8474-188f1af691a5",
   "metadata": {},
   "outputs": [],
   "source": [
    "def predict():\n",
    "    age=int(input(\"enter your age:\"))\n",
    "    chl=int(input(\"enter your choleterol level:\"))\n",
    "    bp=int(input(\"enter your blood pressure value:\"))\n",
    "    arr=np.array([[age,chl,bp]])\n",
    "    predict=log.predict(arr)\n",
    "    if predict==3:\n",
    "        print(\"you have diabetes type 3\")\n",
    "    elif predict==2:\n",
    "        print(\"you have diabetes type 2\")\n",
    "    else:\n",
    "        print(\"you have diabetes type 1\")"
   ]
  },
  {
   "cell_type": "code",
   "execution_count": 88,
   "id": "4922850e-484d-4d3f-9013-2c521d978475",
   "metadata": {},
   "outputs": [
    {
     "name": "stdin",
     "output_type": "stream",
     "text": [
      "enter your age: 20\n",
      "enter your choleterol level: 180\n",
      "enter your blood pressure value: 80\n"
     ]
    },
    {
     "name": "stdout",
     "output_type": "stream",
     "text": [
      "you have diabetes type 2\n"
     ]
    }
   ],
   "source": [
    "predict()"
   ]
  },
  {
   "cell_type": "code",
   "execution_count": null,
   "id": "fb622d46-8f1b-40fa-a929-007c4c14f05d",
   "metadata": {},
   "outputs": [],
   "source": []
  }
 ],
 "metadata": {
  "kernelspec": {
   "display_name": "Python 3 (ipykernel)",
   "language": "python",
   "name": "python3"
  },
  "language_info": {
   "codemirror_mode": {
    "name": "ipython",
    "version": 3
   },
   "file_extension": ".py",
   "mimetype": "text/x-python",
   "name": "python",
   "nbconvert_exporter": "python",
   "pygments_lexer": "ipython3",
   "version": "3.11.7"
  }
 },
 "nbformat": 4,
 "nbformat_minor": 5
}
