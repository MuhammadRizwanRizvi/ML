{
 "cells": [
  {
   "cell_type": "markdown",
   "metadata": {
    "id": "uiVwL-tg1bYJ"
   },
   "source": [
    "variables in python"
   ]
  },
  {
   "cell_type": "markdown",
   "metadata": {},
   "source": [
    "python basics"
   ]
  },
  {
   "cell_type": "code",
   "execution_count": 2,
   "metadata": {
    "colab": {
     "base_uri": "https://localhost:8080/"
    },
    "id": "DT2dDJgS05Vu",
    "outputId": "75f64a67-863a-4109-e94b-a99369f2a348"
   },
   "outputs": [
    {
     "name": "stdout",
     "output_type": "stream",
     "text": [
      "5 2.5 hello\n"
     ]
    }
   ],
   "source": [
    "n=5 #integer\n",
    "m=2.5 #float\n",
    "s=\"hello\" #string\n",
    "print(n,m,s)"
   ]
  },
  {
   "cell_type": "markdown",
   "metadata": {
    "id": "U3fMS8eH11tn"
   },
   "source": [
    "conversion of datatypes"
   ]
  },
  {
   "cell_type": "code",
   "execution_count": 3,
   "metadata": {
    "colab": {
     "base_uri": "https://localhost:8080/"
    },
    "id": "35U97RrX1qo0",
    "outputId": "f472d8ba-0910-4acb-b562-eab8399a4c59"
   },
   "outputs": [
    {
     "name": "stdout",
     "output_type": "stream",
     "text": [
      "2 5.0 2.5\n",
      "<class 'int'> <class 'float'> <class 'str'>\n"
     ]
    }
   ],
   "source": [
    "x=int(m)\n",
    "y=float(n)\n",
    "z=str(m)\n",
    "print(x,y,z)\n",
    "print(type(x),type(y),type(z))"
   ]
  },
  {
   "cell_type": "code",
   "execution_count": 4,
   "metadata": {
    "colab": {
     "base_uri": "https://localhost:8080/"
    },
    "id": "bV2JRhno2NSi",
    "outputId": "021dd466-0e29-443a-cda1-3f29f759a294"
   },
   "outputs": [
    {
     "name": "stdout",
     "output_type": "stream",
     "text": [
      "1 name 2.5\n"
     ]
    }
   ],
   "source": [
    "array=[1,\"name\",2.5]\n",
    "x,y,z=array\n",
    "print(x,y,z)"
   ]
  },
  {
   "cell_type": "code",
   "execution_count": 5,
   "metadata": {
    "colab": {
     "base_uri": "https://localhost:8080/"
    },
    "id": "DMUpnFXi3Fp7",
    "outputId": "ec976c10-61bf-4bbe-def3-5e85c43a74bc"
   },
   "outputs": [
    {
     "name": "stdout",
     "output_type": "stream",
     "text": [
      "<class 'int'> <class 'str'> <class 'float'>\n"
     ]
    }
   ],
   "source": [
    "print(type(x),type(y),type(z))"
   ]
  },
  {
   "cell_type": "markdown",
   "metadata": {
    "id": "E--3iKi0PSxY"
   },
   "source": [
    "operation on strings"
   ]
  },
  {
   "cell_type": "code",
   "execution_count": 6,
   "metadata": {
    "colab": {
     "base_uri": "https://localhost:8080/"
    },
    "id": "rdqIILNJ3ZtF",
    "outputId": "232b65d4-8298-4d64-aebf-9e7077745651"
   },
   "outputs": [
    {
     "name": "stdout",
     "output_type": "stream",
     "text": [
      "5comma\n"
     ]
    }
   ],
   "source": [
    "x=\"5\"# for int or float it will give error\n",
    "y=\"comma\"\n",
    "print(x+y)"
   ]
  },
  {
   "cell_type": "markdown",
   "metadata": {
    "id": "AKFUcxD0PXj7"
   },
   "source": [
    "global values"
   ]
  },
  {
   "cell_type": "code",
   "execution_count": 7,
   "metadata": {
    "colab": {
     "base_uri": "https://localhost:8080/"
    },
    "id": "5WWp8q7U7U8V",
    "outputId": "3f302b26-3532-4981-b0db-42f94c46c87c"
   },
   "outputs": [
    {
     "name": "stdout",
     "output_type": "stream",
     "text": [
      "10\n",
      "10\n"
     ]
    }
   ],
   "source": [
    "x= 5\n",
    "def fun():\n",
    "   global x\n",
    "   x= 10\n",
    "   print(x)\n",
    "fun()\n",
    "print(x)"
   ]
  },
  {
   "cell_type": "code",
   "execution_count": 8,
   "metadata": {
    "colab": {
     "base_uri": "https://localhost:8080/"
    },
    "id": "yg5q6XuU9Upp",
    "outputId": "eca6f44c-9c2a-41ae-fa8b-7efdf6583fdf"
   },
   "outputs": [
    {
     "name": "stdout",
     "output_type": "stream",
     "text": [
      "True <class 'bool'>\n"
     ]
    }
   ],
   "source": [
    "\n",
    "x=True\n",
    "print(x,type(x))"
   ]
  },
  {
   "cell_type": "markdown",
   "metadata": {
    "id": "xcuanXlOPhC6"
   },
   "source": [
    "random numbers"
   ]
  },
  {
   "cell_type": "code",
   "execution_count": 9,
   "metadata": {
    "colab": {
     "base_uri": "https://localhost:8080/"
    },
    "id": "WBNN51GMFz32",
    "outputId": "ad5df465-a50c-4194-e72f-054a8cf520aa"
   },
   "outputs": [
    {
     "name": "stdout",
     "output_type": "stream",
     "text": [
      "2 <class 'int'>\n"
     ]
    }
   ],
   "source": [
    "import random\n",
    "print(random.randrange(1,10),type(random.randrange(1,10)))"
   ]
  },
  {
   "cell_type": "markdown",
   "metadata": {
    "id": "DbIs2YqCPzpu"
   },
   "source": [
    "type function to print type of datatype"
   ]
  },
  {
   "cell_type": "code",
   "execution_count": 10,
   "metadata": {
    "colab": {
     "base_uri": "https://localhost:8080/"
    },
    "id": "5i9b1V1yGN1x",
    "outputId": "7923de2d-34f8-4980-dfa1-ad7e9e26b78f"
   },
   "outputs": [
    {
     "name": "stdout",
     "output_type": "stream",
     "text": [
      "<class 'float'>\n"
     ]
    }
   ],
   "source": [
    "x=5\n",
    "x=float(x)\n",
    "print(type(x))"
   ]
  },
  {
   "cell_type": "markdown",
   "metadata": {
    "id": "6eBuIo-eP4ga"
   },
   "source": [
    "length of string"
   ]
  },
  {
   "cell_type": "code",
   "execution_count": 11,
   "metadata": {
    "colab": {
     "base_uri": "https://localhost:8080/"
    },
    "id": "EGDkUixuGmmt",
    "outputId": "8b9fbca8-7977-4e45-91de-5acf917fc9c7"
   },
   "outputs": [
    {
     "name": "stdout",
     "output_type": "stream",
     "text": [
      "12\n",
      "s\n",
      "t\n",
      "r\n",
      "i\n",
      "n\n",
      "g\n",
      " \n",
      "a\n",
      "r\n",
      "r\n",
      "a\n",
      "y\n"
     ]
    }
   ],
   "source": [
    "x= \"string array\"\n",
    "print(len(x))\n",
    "for y in x:\n",
    "  print(y)"
   ]
  },
  {
   "cell_type": "code",
   "execution_count": 12,
   "metadata": {
    "colab": {
     "base_uri": "https://localhost:8080/"
    },
    "id": "QTuiqCMGG-bI",
    "outputId": "49830bfa-f891-44f1-d0cb-eb2cef3ac0e3"
   },
   "outputs": [
    {
     "name": "stdout",
     "output_type": "stream",
     "text": [
      "False\n"
     ]
    }
   ],
   "source": [
    "print(\"arrayy\" in x)"
   ]
  },
  {
   "cell_type": "markdown",
   "metadata": {
    "id": "VeCOiX_YQHEo"
   },
   "source": [
    "if else"
   ]
  },
  {
   "cell_type": "code",
   "execution_count": 13,
   "metadata": {
    "colab": {
     "base_uri": "https://localhost:8080/"
    },
    "id": "3aAMJazxHTHQ",
    "outputId": "aa00d5f6-cf64-494e-d6b2-0b86c1577bda"
   },
   "outputs": [
    {
     "name": "stdout",
     "output_type": "stream",
     "text": [
      "yes it is\n"
     ]
    }
   ],
   "source": [
    "if \"array\" in x:\n",
    "  print(\"yes it is\")\n",
    "elif \"who\" not in x:\n",
    "  print(\"no it is not\")\n",
    "else:\n",
    "  print(\"no result\")"
   ]
  },
  {
   "cell_type": "markdown",
   "metadata": {
    "id": "EbjZUo7MQKJk"
   },
   "source": [
    "string array operations"
   ]
  },
  {
   "cell_type": "code",
   "execution_count": 14,
   "metadata": {
    "colab": {
     "base_uri": "https://localhost:8080/"
    },
    "id": "ExhOPrK4HszQ",
    "outputId": "cfe8ab8b-3597-4f31-9ff4-2755bd286a00"
   },
   "outputs": [
    {
     "name": "stdout",
     "output_type": "stream",
     "text": [
      "string arr\n"
     ]
    }
   ],
   "source": [
    "print(x[:10])"
   ]
  },
  {
   "cell_type": "code",
   "execution_count": 15,
   "metadata": {
    "colab": {
     "base_uri": "https://localhost:8080/"
    },
    "id": "tkQ69PxHH1d0",
    "outputId": "63d38ef4-be0b-4ac0-bb55-978b7eff513b"
   },
   "outputs": [
    {
     "name": "stdout",
     "output_type": "stream",
     "text": [
      "ng ar\n"
     ]
    }
   ],
   "source": [
    "print(x[4:9])"
   ]
  },
  {
   "cell_type": "code",
   "execution_count": 16,
   "metadata": {
    "colab": {
     "base_uri": "https://localhost:8080/"
    },
    "id": "wluMQCsiH48G",
    "outputId": "be369bbe-2ad4-48b0-c121-a8746fc4fc09"
   },
   "outputs": [
    {
     "name": "stdout",
     "output_type": "stream",
     "text": [
      "STRING ARRAY\n"
     ]
    }
   ],
   "source": [
    "print(x.upper())"
   ]
  },
  {
   "cell_type": "code",
   "execution_count": 17,
   "metadata": {
    "colab": {
     "base_uri": "https://localhost:8080/"
    },
    "id": "aa8gYc20IA2j",
    "outputId": "f98c2571-3b29-46a9-889e-92797a00da94"
   },
   "outputs": [
    {
     "name": "stdout",
     "output_type": "stream",
     "text": [
      "string array\n"
     ]
    }
   ],
   "source": [
    "print(x.strip())"
   ]
  },
  {
   "cell_type": "code",
   "execution_count": 18,
   "metadata": {
    "colab": {
     "base_uri": "https://localhost:8080/"
    },
    "id": "q__4nfCMIHQR",
    "outputId": "baefc032-e0f6-446e-ae5d-00eb259b47e3"
   },
   "outputs": [
    {
     "name": "stdout",
     "output_type": "stream",
     "text": [
      "String array\n"
     ]
    }
   ],
   "source": [
    "print(x.replace(\"s\",\"S\"))"
   ]
  },
  {
   "cell_type": "code",
   "execution_count": 19,
   "metadata": {
    "colab": {
     "base_uri": "https://localhost:8080/"
    },
    "id": "faTZWUJ5IRVX",
    "outputId": "9d37cc9d-ba4e-45d3-fe0c-56bbb3df7f3a"
   },
   "outputs": [
    {
     "name": "stdout",
     "output_type": "stream",
     "text": [
      "b'string array'\n"
     ]
    }
   ],
   "source": [
    "print(x.encode())"
   ]
  },
  {
   "cell_type": "code",
   "execution_count": 20,
   "metadata": {
    "colab": {
     "base_uri": "https://localhost:8080/"
    },
    "id": "x6NFQQ4OIv3X",
    "outputId": "4c205596-df27-4f65-c702-1b83a6364033"
   },
   "outputs": [
    {
     "name": "stdout",
     "output_type": "stream",
     "text": [
      "True\n"
     ]
    }
   ],
   "source": [
    "print(bool(x))"
   ]
  },
  {
   "cell_type": "markdown",
   "metadata": {
    "id": "hjiocmI3QPHZ"
   },
   "source": [
    "boolean operators"
   ]
  },
  {
   "cell_type": "code",
   "execution_count": 21,
   "metadata": {
    "colab": {
     "base_uri": "https://localhost:8080/"
    },
    "id": "QkUrZoZyJAOX",
    "outputId": "7e77891a-4769-4569-89ee-15f76ca66d94"
   },
   "outputs": [
    {
     "name": "stdout",
     "output_type": "stream",
     "text": [
      "no\n"
     ]
    }
   ],
   "source": [
    "x=10\n",
    "y=5\n",
    "if x==10 and y==10:\n",
    "  print(\"yes\")\n",
    "else:\n",
    "  print(\"no\")"
   ]
  },
  {
   "cell_type": "markdown",
   "metadata": {
    "id": "u4e7PvBTQSJB"
   },
   "source": [
    "patterns"
   ]
  },
  {
   "cell_type": "code",
   "execution_count": 22,
   "metadata": {
    "colab": {
     "base_uri": "https://localhost:8080/"
    },
    "id": "gsGvgdXgJdSq",
    "outputId": "10893ac0-a71f-456b-c737-435a2650a565"
   },
   "outputs": [
    {
     "name": "stdout",
     "output_type": "stream",
     "text": [
      "    *\n",
      "   ***\n",
      "  *****\n",
      " *******\n",
      "*********\n"
     ]
    }
   ],
   "source": [
    "m=1\n",
    "for i in range(5):\n",
    "  for j in range(4-i):\n",
    "    print(\" \",end=\"\")\n",
    "  for j in range(i+m):\n",
    "    print(\"*\",end=\"\")\n",
    "  m+=1\n",
    "  print()"
   ]
  },
  {
   "cell_type": "markdown",
   "metadata": {
    "id": "LM7YDZ5-QUms"
   },
   "source": [
    "continue and break"
   ]
  },
  {
   "cell_type": "code",
   "execution_count": 23,
   "metadata": {
    "colab": {
     "base_uri": "https://localhost:8080/"
    },
    "id": "vpaLqmWUOQaf",
    "outputId": "b03b91df-3389-4db1-8331-93f21fd966e0"
   },
   "outputs": [
    {
     "name": "stdout",
     "output_type": "stream",
     "text": [
      "continue\n",
      "continue\n",
      "break\n"
     ]
    }
   ],
   "source": [
    "x=[1,\"hello\",3.5]\n",
    "for i in x:\n",
    "  if i == 3.5:\n",
    "    print(\"break\")\n",
    "    break\n",
    "  else:\n",
    "    print(\"continue\")\n",
    "    continue\n",
    "  print(\"founded\")"
   ]
  },
  {
   "cell_type": "code",
   "execution_count": 24,
   "metadata": {
    "colab": {
     "base_uri": "https://localhost:8080/"
    },
    "id": "rXdYyrnKO36E",
    "outputId": "53bb7525-1113-43eb-e36f-dde30781e4cb"
   },
   "outputs": [
    {
     "name": "stdout",
     "output_type": "stream",
     "text": [
      "*********\n",
      " *******\n",
      "  *****\n",
      "   ***\n",
      "    *\n"
     ]
    }
   ],
   "source": [
    "m=9\n",
    "for i in range(5):\n",
    "  for j in range(i):\n",
    "    print(\" \",end=\"\")\n",
    "  for j in range(m-i):\n",
    "    print(\"*\",end=\"\")\n",
    "  m-=1\n",
    "  print()"
   ]
  },
  {
   "cell_type": "markdown",
   "metadata": {
    "id": "Ma-CrMQXQXp2"
   },
   "source": [
    "multiple inputs using single variable"
   ]
  },
  {
   "cell_type": "code",
   "execution_count": 25,
   "metadata": {
    "colab": {
     "base_uri": "https://localhost:8080/"
    },
    "id": "aLOzjVH4UBg_",
    "outputId": "8e81f5b8-b196-4ff9-bf36-b7e3b427ea92"
   },
   "outputs": [
    {
     "name": "stdout",
     "output_type": "stream",
     "text": [
      "these are the types of ML: \n",
      "('ann', 1, 'cnn', 'dnn', 3.5),"
     ]
    }
   ],
   "source": [
    "def ml(*mltypes):\n",
    "  print(\"these are the types of ML: \")\n",
    "  print(mltypes,end= \",\")\n",
    "ml(\"ann\",1,\"cnn\",\"dnn\",3.5)\n",
    "\n"
   ]
  },
  {
   "cell_type": "code",
   "execution_count": 26,
   "metadata": {
    "colab": {
     "base_uri": "https://localhost:8080/"
    },
    "id": "lW_YIscllkNX",
    "outputId": "e1351815-0abc-4875-f109-be41e7e7127f"
   },
   "outputs": [
    {
     "name": "stdin",
     "output_type": "stream",
     "text": [
      "enter break to finish the loop break\n"
     ]
    }
   ],
   "source": [
    "while True:\n",
    "  inp=input(\"enter break to finish the loop\")\n",
    "  if inp == \"break\":\n",
    "    break\n",
    "  else:\n",
    "    continue\n",
    "\n"
   ]
  },
  {
   "cell_type": "markdown",
   "metadata": {
    "id": "-FXlRlvgQdYS"
   },
   "source": [
    "linked list"
   ]
  },
  {
   "cell_type": "code",
   "execution_count": 27,
   "metadata": {
    "colab": {
     "base_uri": "https://localhost:8080/",
     "height": 332
    },
    "id": "6g6bkhucqFeg",
    "outputId": "ff639d8d-9f60-4440-ffc8-6fd469a1d525"
   },
   "outputs": [
    {
     "name": "stdin",
     "output_type": "stream",
     "text": [
      "enter name,roll no, and age with space  ali,12,22\n"
     ]
    },
    {
     "name": "stdout",
     "output_type": "stream",
     "text": [
      "ali,12,22 "
     ]
    }
   ],
   "source": [
    "class Node:\n",
    "    def __init__(self, *args):\n",
    "        self.data = args\n",
    "        self.next = None\n",
    "\n",
    "class LinkedList:\n",
    "    def __init__(self):\n",
    "        self.head = None\n",
    "\n",
    "    def add(self):\n",
    "        inp = input(\"enter name,roll no, and age with space \")\n",
    "        data_list=inp.split()\n",
    "        new_node = Node(*data_list)\n",
    "        if self.head is None:\n",
    "            self.head = new_node\n",
    "        else:\n",
    "            current = self.head\n",
    "            while current.next:\n",
    "                current = current.next\n",
    "            current.next = new_node\n",
    "\n",
    "    def print_list(self):\n",
    "        current = self.head\n",
    "        while current:\n",
    "          for item in current.data:\n",
    "            print(item,end=\" \")\n",
    "            current = current.next\n",
    "\n",
    "if __name__ == \"__main__\":\n",
    "    l = LinkedList()\n",
    "    l.add()\n",
    "\n",
    "    l.print_list()\n"
   ]
  },
  {
   "cell_type": "markdown",
   "metadata": {
    "id": "YHmdEAfkN7OI"
   },
   "source": [
    "inventory"
   ]
  },
  {
   "cell_type": "code",
   "execution_count": 28,
   "metadata": {
    "colab": {
     "base_uri": "https://localhost:8080/"
    },
    "id": "Wp6B92Mi8TD9",
    "outputId": "14718898-b358-4075-836e-d9c7c7f4ec2b"
   },
   "outputs": [
    {
     "name": "stdin",
     "output_type": "stream",
     "text": [
      "Enter name of product:  pen\n",
      "Enter category of product:  stationary\n",
      "Enter stock of product:  12\n",
      "Enter price of product:  20\n"
     ]
    },
    {
     "name": "stdout",
     "output_type": "stream",
     "text": [
      "Details of products:\n",
      "Name: pen Category: stationary Stock: 12 Price: 20\n"
     ]
    },
    {
     "name": "stdin",
     "output_type": "stream",
     "text": [
      "enter name of product pen\n"
     ]
    },
    {
     "name": "stdout",
     "output_type": "stream",
     "text": [
      "found\n"
     ]
    },
    {
     "name": "stdin",
     "output_type": "stream",
     "text": [
      "Enter name of product to delete:  pen\n"
     ]
    },
    {
     "name": "stdout",
     "output_type": "stream",
     "text": [
      "Deleted node with name 'pen'\n",
      "Details of products:\n"
     ]
    }
   ],
   "source": [
    "#linked list is an important datastructure, it has 2 values , its own value and address of next node\n",
    "class Node:\n",
    "    def __init__(self, name, category, stock, price):\n",
    "        self.name = name\n",
    "        self.category = category\n",
    "        self.stock = stock\n",
    "        self.price = price\n",
    "        self.next = None\n",
    "\n",
    "class LinkedList:\n",
    "    def __init__(self):\n",
    "        self.head = None\n",
    "\n",
    "    def add_stock(self):\n",
    "        name = input(\"Enter name of product: \")\n",
    "        category = input(\"Enter category of product: \")\n",
    "        stock = input(\"Enter stock of product: \")\n",
    "        price = input(\"Enter price of product: \")\n",
    "        new_node = Node(name, category, stock, price)\n",
    "\n",
    "        if self.head is None:\n",
    "            self.head = new_node\n",
    "        else:\n",
    "            current = self.head\n",
    "            while current.next:\n",
    "                current = current.next\n",
    "            current.next = new_node\n",
    "\n",
    "    def display_stock(self):\n",
    "        current = self.head\n",
    "        print(\"Details of products:\")\n",
    "        while current:\n",
    "            print(\"Name:\", current.name, \"Category:\", current.category, \"Stock:\", current.stock, \"Price:\", current.price)\n",
    "            current = current.next\n",
    "    def search(self):\n",
    "      current=self.head\n",
    "      name=input(\"enter name of product\")\n",
    "      while current:\n",
    "        if current.name==name:\n",
    "          print(\"found\")\n",
    "          break\n",
    "        else:\n",
    "          current=current.next\n",
    "    def delete(self):\n",
    "        name = input(\"Enter name of product to delete: \")\n",
    "\n",
    "        # Case 1: If the node to be deleted is the head node\n",
    "        if self.head and self.head.name == name:\n",
    "            dptr = self.head\n",
    "            self.head = self.head.next\n",
    "            del dptr\n",
    "            print(f\"Deleted node with name '{name}'\")\n",
    "            return\n",
    "\n",
    "        # Case 2: If the node to be deleted is not the head node\n",
    "        current = self.head\n",
    "        while current and current.next:\n",
    "            if current.next.name == name:\n",
    "                dptr = current.next\n",
    "                current.next = current.next.next\n",
    "                del dptr\n",
    "                print(f\"Deleted node with name '{name}'\")\n",
    "                return\n",
    "            current = current.next\n",
    "\n",
    "        print(f\"Node with name '{name}' not found\")\n",
    "# Creating an instance of LinkedList\n",
    "obj = LinkedList()\n",
    "\n",
    "# Adding stock details\n",
    "obj.add_stock()\n",
    "\n",
    "# Displaying stock details\n",
    "obj.display_stock()\n",
    "\n",
    "obj.search()\n",
    "\n",
    "obj.delete()\n",
    "\n",
    "obj.display_stock()\n"
   ]
  },
  {
   "cell_type": "markdown",
   "metadata": {
    "id": "VntO5TZKQh9s"
   },
   "source": [
    "file handling"
   ]
  },
  {
   "cell_type": "code",
   "execution_count": 29,
   "metadata": {
    "id": "8gRyIeCFREUF"
   },
   "outputs": [],
   "source": [
    "path=\"practice.txt\""
   ]
  },
  {
   "cell_type": "markdown",
   "metadata": {
    "id": "oOtEtnC9aCO_"
   },
   "source": [
    "reading whole file"
   ]
  },
  {
   "cell_type": "code",
   "execution_count": 30,
   "metadata": {
    "colab": {
     "base_uri": "https://localhost:8080/"
    },
    "id": "I5YAwAJfTJBC",
    "outputId": "fb0dfa02-7329-4378-c721-4a23c7870391"
   },
   "outputs": [
    {
     "name": "stdout",
     "output_type": "stream",
     "text": [
      "this is new line 1\n",
      "this is new line 2\n",
      "this is new line 3\n",
      "\n"
     ]
    }
   ],
   "source": [
    "f=open(path,\"r\")\n",
    "print(f.read())"
   ]
  },
  {
   "cell_type": "code",
   "execution_count": 31,
   "metadata": {
    "id": "OsaAzMR3TSpS"
   },
   "outputs": [],
   "source": [
    "f.close()"
   ]
  },
  {
   "cell_type": "code",
   "execution_count": 32,
   "metadata": {
    "colab": {
     "base_uri": "https://localhost:8080/",
     "height": 141
    },
    "id": "gl97ene3TVjf",
    "outputId": "45b3ac32-7c08-4767-e842-1e772701bc07"
   },
   "outputs": [
    {
     "ename": "ValueError",
     "evalue": "I/O operation on closed file.",
     "output_type": "error",
     "traceback": [
      "\u001b[1;31m---------------------------------------------------------------------------\u001b[0m",
      "\u001b[1;31mValueError\u001b[0m                                Traceback (most recent call last)",
      "Cell \u001b[1;32mIn[32], line 1\u001b[0m\n\u001b[1;32m----> 1\u001b[0m \u001b[38;5;28mprint\u001b[39m(f\u001b[38;5;241m.\u001b[39mread())\n",
      "\u001b[1;31mValueError\u001b[0m: I/O operation on closed file."
     ]
    }
   ],
   "source": [
    "print(f.read())#error beecuase file is closed"
   ]
  },
  {
   "cell_type": "code",
   "execution_count": 33,
   "metadata": {
    "id": "i6g-NjJUTZtB"
   },
   "outputs": [],
   "source": [
    "f=open(path,\"r\")"
   ]
  },
  {
   "cell_type": "markdown",
   "metadata": {
    "id": "_YNkxiKpaGAf"
   },
   "source": [
    "adding new line"
   ]
  },
  {
   "cell_type": "code",
   "execution_count": 34,
   "metadata": {
    "id": "Q8uZcWsNTu5m"
   },
   "outputs": [],
   "source": [
    "f=open(path,\"a\")\n",
    "f.write(\"new line to the file\")\n",
    "f.close()\n"
   ]
  },
  {
   "cell_type": "markdown",
   "metadata": {
    "id": "MLybFBMnaHzI"
   },
   "source": [
    "reading 10 characters"
   ]
  },
  {
   "cell_type": "code",
   "execution_count": 35,
   "metadata": {
    "colab": {
     "base_uri": "https://localhost:8080/"
    },
    "id": "mgPfQD8UT1oH",
    "outputId": "afa09651-a066-41ba-c0dd-feee83b7efe2"
   },
   "outputs": [
    {
     "name": "stdout",
     "output_type": "stream",
     "text": [
      "this is ne\n"
     ]
    }
   ],
   "source": [
    "f=open(path,\"r\")\n",
    "print(f.read(10))"
   ]
  },
  {
   "cell_type": "code",
   "execution_count": 36,
   "metadata": {
    "colab": {
     "base_uri": "https://localhost:8080/"
    },
    "id": "TPEIr_TWT5nE",
    "outputId": "fc7fea5b-3340-45e5-c7cc-4d2e57246539"
   },
   "outputs": [
    {
     "name": "stdout",
     "output_type": "stream",
     "text": [
      "this\n"
     ]
    }
   ],
   "source": [
    "f=open(path,\"r\")\n",
    "print(f.readline(4))"
   ]
  },
  {
   "cell_type": "markdown",
   "metadata": {
    "id": "BbCP35MVZ5LS"
   },
   "source": [
    "exeptions"
   ]
  },
  {
   "cell_type": "code",
   "execution_count": 37,
   "metadata": {
    "colab": {
     "base_uri": "https://localhost:8080/"
    },
    "id": "-1eFLmrLXtKZ",
    "outputId": "c8a5d0ce-b329-47a3-bc54-587392436247"
   },
   "outputs": [
    {
     "name": "stdin",
     "output_type": "stream",
     "text": [
      "enter any number  12\n"
     ]
    },
    {
     "name": "stdout",
     "output_type": "stream",
     "text": [
      "0.8333333333333334\n",
      "this is finally block\n"
     ]
    }
   ],
   "source": [
    "try:\n",
    "  number=int(input(\"enter any number \"))\n",
    "  result=10/number\n",
    "except ZeroDivisionError:\n",
    "  print(\"leads to infinity\")\n",
    "except ValueError:\n",
    "  print(\"enter only numbers\")\n",
    "else:\n",
    "  print(result)\n",
    "finally:\n",
    "  print(\"this is finally block\")"
   ]
  },
  {
   "cell_type": "code",
   "execution_count": null,
   "metadata": {
    "id": "gAnpsf-vZ2fJ"
   },
   "outputs": [],
   "source": []
  }
 ],
 "metadata": {
  "colab": {
   "provenance": []
  },
  "kernelspec": {
   "display_name": "Python 3 (ipykernel)",
   "language": "python",
   "name": "python3"
  },
  "language_info": {
   "codemirror_mode": {
    "name": "ipython",
    "version": 3
   },
   "file_extension": ".py",
   "mimetype": "text/x-python",
   "name": "python",
   "nbconvert_exporter": "python",
   "pygments_lexer": "ipython3",
   "version": "3.11.7"
  }
 },
 "nbformat": 4,
 "nbformat_minor": 4
}
