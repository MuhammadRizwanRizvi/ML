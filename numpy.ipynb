{
 "cells": [
  {
   "cell_type": "markdown",
   "metadata": {
    "id": "z59k0RIsatdf"
   },
   "source": [
    "numpy is a machine learning library which help to perform differnt mathmatical operations"
   ]
  },
  {
   "cell_type": "code",
   "execution_count": 1,
   "metadata": {
    "id": "dRW7maCdaSXu"
   },
   "outputs": [],
   "source": [
    "import numpy as np"
   ]
  },
  {
   "cell_type": "code",
   "execution_count": 4,
   "metadata": {
    "colab": {
     "base_uri": "https://localhost:8080/"
    },
    "id": "yp3qPZ2Bay2M",
    "outputId": "6802e63a-d94b-42bf-8f93-6a806a818944"
   },
   "outputs": [
    {
     "data": {
      "text/plain": [
       "array([0, 1, 2, 3, 4, 5, 6, 7, 8, 9])"
      ]
     },
     "execution_count": 4,
     "metadata": {},
     "output_type": "execute_result"
    }
   ],
   "source": [
    "#arranging a numpy array from 0 to 9\n",
    "arr=np.arange(10)\n",
    "arr\n"
   ]
  },
  {
   "cell_type": "code",
   "execution_count": 5,
   "metadata": {
    "colab": {
     "base_uri": "https://localhost:8080/"
    },
    "id": "SmlsLFIua-hD",
    "outputId": "bd507433-7ba8-44f8-c374-b68d78579c14"
   },
   "outputs": [
    {
     "name": "stdout",
     "output_type": "stream",
     "text": [
      "0\n",
      "1\n",
      "2\n",
      "3\n",
      "4\n",
      "5\n",
      "6\n",
      "7\n",
      "8\n",
      "9\n",
      "<class 'numpy.ndarray'>\n"
     ]
    }
   ],
   "source": [
    "for i in range(len(arr)):\n",
    "  print(arr[i])\n",
    "print(type(arr))\n"
   ]
  },
  {
   "cell_type": "code",
   "execution_count": 6,
   "metadata": {
    "colab": {
     "base_uri": "https://localhost:8080/"
    },
    "id": "brsUtp3yc2ZV",
    "outputId": "3c094378-5938-4633-eba4-47f4bf431b07"
   },
   "outputs": [
    {
     "name": "stdout",
     "output_type": "stream",
     "text": [
      "[0. 0. 0. 0. 0. 0. 0. 0. 0. 0.]\n"
     ]
    }
   ],
   "source": [
    "#printing numpy array having only zeros and length is 10\n",
    "arr1=np.zeros(10)\n",
    "print(arr1)"
   ]
  },
  {
   "cell_type": "code",
   "execution_count": 7,
   "metadata": {
    "colab": {
     "base_uri": "https://localhost:8080/"
    },
    "id": "cqBugbFkdMNc",
    "outputId": "655ae3ec-c228-46ff-d5fb-0165083fb462"
   },
   "outputs": [
    {
     "data": {
      "text/plain": [
       "array([1., 1., 1., 1., 1., 1., 1., 1., 1., 1.])"
      ]
     },
     "execution_count": 7,
     "metadata": {},
     "output_type": "execute_result"
    }
   ],
   "source": [
    "#printing array of ones of size 10\n",
    "arr2=np.ones(10)\n",
    "arr2"
   ]
  },
  {
   "cell_type": "code",
   "execution_count": 8,
   "metadata": {
    "colab": {
     "base_uri": "https://localhost:8080/"
    },
    "id": "0Mer6vmodt8E",
    "outputId": "1e531527-c8c7-410c-f4c9-f9ed6b23144b"
   },
   "outputs": [
    {
     "data": {
      "text/plain": [
       "array([1., 1., 1., 1., 1., 1., 1., 1., 1., 1.])"
      ]
     },
     "execution_count": 8,
     "metadata": {},
     "output_type": "execute_result"
    }
   ],
   "source": [
    "arr1+arr2"
   ]
  },
  {
   "cell_type": "code",
   "execution_count": 9,
   "metadata": {
    "colab": {
     "base_uri": "https://localhost:8080/"
    },
    "id": "KBiP7MCBdwoF",
    "outputId": "b5187016-12fd-44a2-a977-e54ca2532048"
   },
   "outputs": [
    {
     "data": {
      "text/plain": [
       "array([ 1, 14,  8, 12,  6, 13,  7, 14, 12,  7])"
      ]
     },
     "execution_count": 9,
     "metadata": {},
     "output_type": "execute_result"
    }
   ],
   "source": [
    "arr3=np.random.randint(1,20,size=10)\n",
    "arr3"
   ]
  },
  {
   "cell_type": "code",
   "execution_count": 10,
   "metadata": {
    "colab": {
     "base_uri": "https://localhost:8080/"
    },
    "id": "oYvoijpCejgs",
    "outputId": "7051a762-9af0-4166-ebe8-f5a43a0dae8c"
   },
   "outputs": [
    {
     "data": {
      "text/plain": [
       "array([0.23215179, 0.09695592, 0.60256502, 0.04129291, 0.04730568,\n",
       "       0.90977564, 0.26259623, 0.36639504, 0.0367398 , 0.00978564])"
      ]
     },
     "execution_count": 10,
     "metadata": {},
     "output_type": "execute_result"
    }
   ],
   "source": [
    "arr4=np.random.rand(10)\n",
    "arr4"
   ]
  },
  {
   "cell_type": "code",
   "execution_count": 11,
   "metadata": {
    "colab": {
     "base_uri": "https://localhost:8080/"
    },
    "id": "a2hx2Vp1evkk",
    "outputId": "abe58ce4-e3f4-4ce4-9671-08cdeccad4da"
   },
   "outputs": [
    {
     "data": {
      "text/plain": [
       "array([ 1.23215179, 14.09695592,  8.60256502, 12.04129291,  6.04730568,\n",
       "       13.90977564,  7.26259623, 14.36639504, 12.0367398 ,  7.00978564])"
      ]
     },
     "execution_count": 11,
     "metadata": {},
     "output_type": "execute_result"
    }
   ],
   "source": [
    "#numpy operations\n",
    "sum=np.add(arr3,arr4)\n",
    "sum"
   ]
  },
  {
   "cell_type": "code",
   "execution_count": 12,
   "metadata": {
    "colab": {
     "base_uri": "https://localhost:8080/"
    },
    "id": "ZaljYXWJe-Kv",
    "outputId": "813fe72e-bea5-4825-9508-e7f005f884f2"
   },
   "outputs": [
    {
     "data": {
      "text/plain": [
       "array([ 0.23215179,  1.35738291,  4.82052019,  0.49551488,  0.28383407,\n",
       "       11.82708335,  1.83817364,  5.12953057,  0.44087764,  0.06849947])"
      ]
     },
     "execution_count": 12,
     "metadata": {},
     "output_type": "execute_result"
    }
   ],
   "source": [
    "prod=np.multiply(arr3,arr4)\n",
    "prod"
   ]
  },
  {
   "cell_type": "code",
   "execution_count": 13,
   "metadata": {
    "colab": {
     "base_uri": "https://localhost:8080/"
    },
    "id": "2p-5XWU-fLbp",
    "outputId": "0be1cae4-09c1-4074-88ea-e606d0675e6c"
   },
   "outputs": [
    {
     "name": "stdout",
     "output_type": "stream",
     "text": [
      "[2 2 1 1]\n",
      "[7 1 5 4]\n"
     ]
    },
    {
     "data": {
      "text/plain": [
       "25"
      ]
     },
     "execution_count": 13,
     "metadata": {},
     "output_type": "execute_result"
    }
   ],
   "source": [
    "a1=np.random.randint(1,10,size=4)\n",
    "a2=np.random.randint(1,10,size=4)\n",
    "print(a1)\n",
    "print(a2)\n",
    "prod=np.dot(a1,a2)\n",
    "prod"
   ]
  },
  {
   "cell_type": "code",
   "execution_count": 14,
   "metadata": {
    "colab": {
     "base_uri": "https://localhost:8080/"
    },
    "id": "bX_EIDkTfdBF",
    "outputId": "9fc0ad4c-5847-491a-cd60-111fce90a1a9"
   },
   "outputs": [
    {
     "data": {
      "text/plain": [
       "array([9, 5, 8, 2, 2, 2, 9, 1, 9, 7])"
      ]
     },
     "execution_count": 14,
     "metadata": {},
     "output_type": "execute_result"
    }
   ],
   "source": [
    "a3=np.random.randint(1,10,size=10)\n",
    "a3"
   ]
  },
  {
   "cell_type": "code",
   "execution_count": 15,
   "metadata": {
    "colab": {
     "base_uri": "https://localhost:8080/"
    },
    "id": "KI3HUFT5fln_",
    "outputId": "d45eab14-ae93-41e3-f3c2-eb77fa6d94bc"
   },
   "outputs": [
    {
     "name": "stdout",
     "output_type": "stream",
     "text": [
      "1\n",
      "9\n",
      "5.4\n"
     ]
    }
   ],
   "source": [
    "print(np.min(a3))\n",
    "print(np.max(a3))\n",
    "print(np.mean(a3))"
   ]
  },
  {
   "cell_type": "code",
   "execution_count": 16,
   "metadata": {
    "colab": {
     "base_uri": "https://localhost:8080/"
    },
    "id": "4FStqJwqfyBX",
    "outputId": "8bc22a27-8769-4d10-e309-c3bcb93a00f3"
   },
   "outputs": [
    {
     "name": "stdout",
     "output_type": "stream",
     "text": [
      "[ 0.3528081  -0.3435067  -0.82176231 -0.92745706 -2.0767975   0.23030449\n",
      "  0.43817799  0.1006055  -0.16089675  1.26390352]\n"
     ]
    }
   ],
   "source": [
    "print(np.random.normal(0,1,10))"
   ]
  },
  {
   "cell_type": "code",
   "execution_count": 17,
   "metadata": {
    "colab": {
     "base_uri": "https://localhost:8080/"
    },
    "id": "7n-ccClSgBFC",
    "outputId": "7298c979-cad1-4bcd-f9b3-a69cec31ba52"
   },
   "outputs": [
    {
     "name": "stdout",
     "output_type": "stream",
     "text": [
      "[2 9]\n",
      "[[1 5]\n",
      " [4 6]]\n"
     ]
    }
   ],
   "source": [
    "a1=np.random.randint(1,10,size=2)#2 by 1\n",
    "a2=np.random.randint(1,10,size=(2,2))#2 by 2\n",
    "print(a1)\n",
    "print(a2)"
   ]
  },
  {
   "cell_type": "code",
   "execution_count": 18,
   "metadata": {
    "colab": {
     "base_uri": "https://localhost:8080/"
    },
    "id": "IpoopSpDgQgb",
    "outputId": "7ea4f6f7-ded3-4bef-fca7-7648c6adb615"
   },
   "outputs": [
    {
     "name": "stdout",
     "output_type": "stream",
     "text": [
      "[38 64]\n"
     ]
    }
   ],
   "source": [
    "print(np.dot(a1,a2))"
   ]
  },
  {
   "cell_type": "code",
   "execution_count": 19,
   "metadata": {
    "id": "PuiF9K7jgaSo"
   },
   "outputs": [],
   "source": [
    "a1=np.random.randint(1,10,size=(3,3))"
   ]
  },
  {
   "cell_type": "code",
   "execution_count": 20,
   "metadata": {
    "colab": {
     "base_uri": "https://localhost:8080/"
    },
    "id": "1Y2ioya4g1-w",
    "outputId": "31dee7db-486f-4a9a-c78d-3d2cbadfc0e0"
   },
   "outputs": [
    {
     "data": {
      "text/plain": [
       "numpy.ndarray"
      ]
     },
     "execution_count": 20,
     "metadata": {},
     "output_type": "execute_result"
    }
   ],
   "source": [
    "type(a1)"
   ]
  },
  {
   "cell_type": "code",
   "execution_count": 21,
   "metadata": {
    "colab": {
     "base_uri": "https://localhost:8080/"
    },
    "id": "eWKlSvcfg8Q5",
    "outputId": "3db217bb-d850-412c-da09-cc70a92c7002"
   },
   "outputs": [
    {
     "data": {
      "text/plain": [
       "array([167, 168, 155, 161, 187, 162], dtype=int64)"
      ]
     },
     "execution_count": 21,
     "metadata": {},
     "output_type": "execute_result"
    }
   ],
   "source": [
    "np.bincount(np.random.randint(1,7,size=1000))[1:]"
   ]
  },
  {
   "cell_type": "code",
   "execution_count": 22,
   "metadata": {
    "colab": {
     "base_uri": "https://localhost:8080/"
    },
    "id": "wlFLpL9UhitK",
    "outputId": "88a5042a-73f9-42c6-f7f7-47e8a4ce2203"
   },
   "outputs": [
    {
     "name": "stdout",
     "output_type": "stream",
     "text": [
      "6.0\n",
      "6.0\n"
     ]
    }
   ],
   "source": [
    "a1=np.array([2,4,6,8,10])\n",
    "print(np.mean(a1))\n",
    "print(np.median(a1))"
   ]
  },
  {
   "cell_type": "code",
   "execution_count": null,
   "metadata": {
    "id": "h7ZiaqRxiDQy"
   },
   "outputs": [],
   "source": []
  }
 ],
 "metadata": {
  "colab": {
   "provenance": []
  },
  "kernelspec": {
   "display_name": "Python 3 (ipykernel)",
   "language": "python",
   "name": "python3"
  },
  "language_info": {
   "codemirror_mode": {
    "name": "ipython",
    "version": 3
   },
   "file_extension": ".py",
   "mimetype": "text/x-python",
   "name": "python",
   "nbconvert_exporter": "python",
   "pygments_lexer": "ipython3",
   "version": "3.11.7"
  }
 },
 "nbformat": 4,
 "nbformat_minor": 4
}
